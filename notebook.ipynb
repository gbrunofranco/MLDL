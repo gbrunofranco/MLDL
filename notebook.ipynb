{
  "nbformat": 4,
  "nbformat_minor": 2,
  "metadata": {
    "accelerator": "GPU",
    "colab": {
      "name": "notebook.ipynb",
      "provenance": [],
      "collapsed_sections": []
    },
    "kernelspec": {
      "display_name": "Python 3",
      "language": "python",
      "name": "python3"
    },
    "language_info": {
      "codemirror_mode": {
        "name": "ipython",
        "version": 3
      },
      "file_extension": ".py",
      "mimetype": "text/x-python",
      "name": "python",
      "nbconvert_exporter": "python",
      "pygments_lexer": "ipython3",
      "version": "3.7.9"
    }
  },
  "cells": [
    {
      "cell_type": "code",
      "execution_count": null,
      "source": [
        "!nvidia-smi\r\n",
        "from utils import confusionMatrix, initialize_and_get_args, get_training_test_batches, accuracyPlot, get_model, avg\r\n",
        "from iCaRL import run, run_lwf\r\n",
        "from torch import nn"
      ],
      "outputs": [],
      "metadata": {}
    },
    {
      "cell_type": "code",
      "execution_count": null,
      "source": [
        "mode = \"cwwnr\"\r\n",
        "model_type = \"resnet44\" # resnet32, resnet20, resnet44, resnet56, resnet110  \r\n",
        "args = initialize_and_get_args(model_type = model_type)\r\n",
        "train_batches, test_batches = get_training_test_batches(mode)\r\n",
        "\r\n",
        "model = get_model(model_type)\r\n",
        "model = model.to(args[\"device\"])\r\n",
        "distill_loss = nn.BCEWithLogitsLoss() # BCEWithLogitsLoss, L1Loss, MSELoss, CELoss\r\n",
        "classif_loss = nn.BCEWithLogitsLoss() # default, cwwr, owr or ownr (clossed world without rejection, with naive rejection with non naive rejection, open world with naive and non-naive rejection)\r\n",
        "classifier = 'NME'\r\n",
        "finetuning=False\r\n",
        "acc_default=run(train_batches, test_batches, model, classifier, classif_loss, distill_loss, args, finetuning, mode)\r\n",
        "print(acc_default)"
      ],
      "outputs": [],
      "metadata": {
        "id": "wxO3GMCMy1a3"
      }
    },
    {
      "cell_type": "code",
      "execution_count": null,
      "source": [
        "mode = \"ownr\"\r\n",
        "model_type = \"resnet44\"   \r\n",
        "args = initialize_and_get_args(model_type = model_type)\r\n",
        "train_batches, test_batches = get_training_test_batches(mode)\r\n",
        "\r\n",
        "model = get_model(model_type)\r\n",
        "model = model.to(args[\"device\"])\r\n",
        "distill_loss = nn.BCEWithLogitsLoss() \r\n",
        "classif_loss = nn.BCEWithLogitsLoss() \r\n",
        "classifier = 'NME'\r\n",
        "finetuning=False\r\n",
        "acc_default=run(train_batches, test_batches, model, classifier, classif_loss, distill_loss, args, finetuning, mode)\r\n",
        "print(acc_default)"
      ],
      "outputs": [],
      "metadata": {
        "id": "dePzkJ-9aNfh"
      }
    }
  ]
}